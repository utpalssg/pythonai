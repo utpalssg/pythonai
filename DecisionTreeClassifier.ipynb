{
  "nbformat": 4,
  "nbformat_minor": 0,
  "metadata": {
    "colab": {
      "provenance": [],
      "toc_visible": true,
      "authorship_tag": "ABX9TyMZZUAN41B9elBt4tLeVX6k",
      "include_colab_link": true
    },
    "kernelspec": {
      "name": "python3",
      "display_name": "Python 3"
    },
    "language_info": {
      "name": "python"
    }
  },
  "cells": [
    {
      "cell_type": "markdown",
      "metadata": {
        "id": "view-in-github",
        "colab_type": "text"
      },
      "source": [
        "<a href=\"https://colab.research.google.com/github/utpalssg/pythonai/blob/main/DecisionTreeClassifier.ipynb\" target=\"_parent\"><img src=\"https://colab.research.google.com/assets/colab-badge.svg\" alt=\"Open In Colab\"/></a>"
      ]
    },
    {
      "cell_type": "code",
      "execution_count": null,
      "metadata": {
        "colab": {
          "base_uri": "https://localhost:8080/"
        },
        "id": "4s50yNJ5RmCj",
        "outputId": "43a716fc-d9db-4680-f42d-5576535cc6f8"
      },
      "outputs": [
        {
          "output_type": "stream",
          "name": "stdout",
          "text": [
            "[[0.26, 1], [0.2, 0], [0.48, 1], [0.30000000000000004, 0]]\n",
            "0.2888993469118486\n"
          ]
        }
      ],
      "source": [
        "import math\n",
        "import numpy as np\n",
        "x_input=np.array([(0.1,0.5,0.2),\n",
        "                (0.2,0.3,0.1),\n",
        "                (0.7,0.4,0.2),\n",
        "                (0.1,0.4,0.3)])\n",
        "w_weight=np.array([0.4,0.2,0.6])\n",
        "y_input=np.array([1,0,1,0])\n",
        "arr=np.array([(0,0),(0,0),(0,0),(0,0)])\n",
        "matrix=[]\n",
        "threshold=0.5\n",
        "\n",
        "def step(weighted_sum):\n",
        "  if weighted_sum > threshold:\n",
        "    return 1\n",
        "  else:\n",
        "    return 0\n",
        "\n",
        "def perceptron():\n",
        "  for i in range(4):\n",
        "    row=[]\n",
        "    weighted_sum=0\n",
        "    weighted_sum += np.dot(x_input[i],w_weight)\n",
        "    row.append(weighted_sum)\n",
        "    row.append(y_input[i])\n",
        "    matrix.append(row)\n",
        "  return matrix\n",
        "\n",
        "def cross_entropy(input_data):\n",
        "  loss=0\n",
        "  n=len(input_data)\n",
        "  for entry in input_data:\n",
        "    w_sum=entry[0]\n",
        "    y=entry[1]\n",
        "    loss += -((y*math.log10(w_sum))+((1-y)*math.log10(1-w_sum)))/n\n",
        "  return loss\n",
        "\n",
        "output=perceptron()\n",
        "print(output)\n",
        "error_term=cross_entropy(output)\n",
        "print(error_term)\n"
      ]
    },
    {
      "cell_type": "code",
      "source": [],
      "metadata": {
        "id": "TpPTTRnaLhpu"
      },
      "execution_count": null,
      "outputs": []
    },
    {
      "cell_type": "code",
      "source": [
        "import numpy as np\n",
        "\n",
        "#Activation function\n",
        "def sigmoid(w_sum):\n",
        "  return 1/(1+np.exp(w_sum))\n",
        "\n",
        "#Get model output\n",
        "def get_prediction(features, weights, bias):\n",
        "  return sigmoid(np.dot(features, weights)+bias)\n",
        "\n",
        "#Loss function\n",
        "def cross_entropy(target, pred):\n",
        "  return -(target*np.log10(pred)+(1-target)*(np.log10(1-pred)))\n",
        "\n",
        "#Update weights\n",
        "def gradient_descent(x, y, weights, bias, learnrate, pred):\n",
        "    new_weights = []\n",
        "    bias += learnrate*(y-pred)\n",
        "\n",
        "    for w,xi in zip(weights,x):\n",
        "        new_weight = w + learnrate*(y-pred)*xi\n",
        "        new_weights.append(new_weight)\n",
        "    return new_weights, bias\n",
        "\n",
        "#data\n",
        "features = np.array(([0.1,0.5,0.2],[0.2,0.3,0.1],[0.7,0.4,0.2],[0.1,0.4,0.3]))\n",
        "targets = np.array([0,1,0,1])\n",
        "\n",
        "epochs = 10\n",
        "learnrate = 0.1\n",
        "\n",
        "errors = []\n",
        "weights = np.array([0.4, 0.2, 0.6])\n",
        "bias = 0.5\n",
        "\n",
        "new_weights = []\n",
        "\n",
        "for e in range(epochs):\n",
        "    for x, y in zip(features, targets):\n",
        "        pred = get_prediction(x, weights, bias)\n",
        "        error = cross_entropy(y, pred)\n",
        "        weights, bias = gradient_descent(x, y, weights, bias, learnrate, pred)\n",
        "\n",
        "    # Printing out the log-loss error on the training set\n",
        "    out = get_prediction(features, weights, bias)\n",
        "    loss = np.mean(cross_entropy(targets, out))\n",
        "    errors.append(loss)\n",
        "    print(\"\\n========== Epoch\", e,\"==========\")\n",
        "    print(\"Average loss: \", loss)\n",
        "\n"
      ],
      "metadata": {
        "colab": {
          "base_uri": "https://localhost:8080/"
        },
        "id": "bvqLxdi5Y1BO",
        "outputId": "32f4aaa2-5e41-45b7-e497-2a8a968f9fbb"
      },
      "execution_count": null,
      "outputs": [
        {
          "output_type": "stream",
          "name": "stdout",
          "text": [
            "\n",
            "========== Epoch 0 ==========\n",
            "Average loss:  0.3306613656681985\n",
            "\n",
            "========== Epoch 1 ==========\n",
            "Average loss:  0.3397049852747369\n",
            "\n",
            "========== Epoch 2 ==========\n",
            "Average loss:  0.350588620447155\n",
            "\n",
            "========== Epoch 3 ==========\n",
            "Average loss:  0.363595692133223\n",
            "\n",
            "========== Epoch 4 ==========\n",
            "Average loss:  0.3790045151708398\n",
            "\n",
            "========== Epoch 5 ==========\n",
            "Average loss:  0.39706890342456747\n",
            "\n",
            "========== Epoch 6 ==========\n",
            "Average loss:  0.41799680313520005\n",
            "\n",
            "========== Epoch 7 ==========\n",
            "Average loss:  0.44193017670685497\n",
            "\n",
            "========== Epoch 8 ==========\n",
            "Average loss:  0.46892990180882416\n",
            "\n",
            "========== Epoch 9 ==========\n",
            "Average loss:  0.4989689109826353\n"
          ]
        }
      ]
    },
    {
      "cell_type": "code",
      "source": [
        "names = ['John', 'Jane', 'Jim']\n",
        "ages = [25, 30, 35]\n",
        "occupations = ['Engineer', 'Teacher', 'Doctor']\n",
        "\n",
        "for a,b,zipped in zip(names, ages, occupations):\n",
        "  print(names)\n",
        "#result = list(zipped)\n",
        "print(names)\n",
        "print(ages)\n",
        "print(occupations)\n",
        "print(a)  # Output: [('John', 25, 'Engineer'), ('Jane', 30, 'Teacher'), ('Jim', 35, 'Doctor')]\n",
        "print(b)\n",
        "print(zipped)"
      ],
      "metadata": {
        "colab": {
          "base_uri": "https://localhost:8080/"
        },
        "id": "fu-YDKSi8iqu",
        "outputId": "f5b9c11c-a864-4efb-8fbe-2d92bf427b97"
      },
      "execution_count": null,
      "outputs": [
        {
          "output_type": "stream",
          "name": "stdout",
          "text": [
            "['John', 'Jane', 'Jim']\n",
            "['John', 'Jane', 'Jim']\n",
            "['John', 'Jane', 'Jim']\n",
            "['John', 'Jane', 'Jim']\n",
            "[25, 30, 35]\n",
            "['Engineer', 'Teacher', 'Doctor']\n",
            "Jim\n",
            "35\n",
            "Doctor\n"
          ]
        }
      ]
    },
    {
      "cell_type": "code",
      "source": [
        "import numpy as np #for the math part\n",
        "import pandas as pd #to organize, visualize\n",
        "\n",
        "#Create random features, targets, weights\n",
        "rg=np.random.default_rng()\n",
        "bias=0.5\n",
        "\n",
        "\n",
        "def get_weighted_sum(features, weights, bias):\n",
        "  return np.dot(features, weights)+bias\n",
        "\n",
        "def sigmoid(w_sum):\n",
        "  return 1/(1+np.exp(w_sum))\n",
        "\n",
        "#Loss function\n",
        "def cross_entropy(target, pred):\n",
        "  return -(target*np.log10(pred)+(1-target)*(np.log10(1-pred)))\n",
        "\n",
        "#update weights\n",
        "\n",
        "\n",
        "def generate_data(n_features, n_values):\n",
        "  features=rg.random((n_features, n_values))\n",
        "  weights=rg.random((1,n_values))[0]\n",
        "  targets=np.random.choice([0,1],n_features)\n",
        "  data=pd.DataFrame(features,columns=[\"x0\",\"x1\",\"x2\"])\n",
        "  data[\"targets\"]=targets\n",
        "  return data, weights\n",
        "\n",
        "\n",
        "data, weights = generate_data(4,3)\n",
        "for i in range(len(data)):\n",
        "  feature= data.loc[i][:-1]\n",
        "  target=data.loc[i][-1]\n",
        "  w_sum= get_weighted_sum(feature, weights, bias)\n",
        "  prediction=sigmoid(w_sum)\n",
        "  error=cross_entropy(target,prediction)\n",
        "  print(error)\n"
      ],
      "metadata": {
        "colab": {
          "base_uri": "https://localhost:8080/"
        },
        "id": "6hUs9YZfmGfY",
        "outputId": "e23e859f-68dc-4b86-a8e6-c494beec62fc"
      },
      "execution_count": null,
      "outputs": [
        {
          "output_type": "stream",
          "name": "stdout",
          "text": [
            "1.042573625680575\n",
            "0.8016913347998679\n",
            "1.0276519379319473\n",
            "0.06559447711725983\n"
          ]
        }
      ]
    },
    {
      "cell_type": "code",
      "source": [
        "from __future__ import print_function"
      ],
      "metadata": {
        "id": "XDam0xrnLj6R"
      },
      "execution_count": 2,
      "outputs": []
    },
    {
      "cell_type": "code",
      "source": [
        "# Toy dataset.\n",
        "# Format: each row is an example.\n",
        "# The last column is the label.\n",
        "# The first two columns are features.\n",
        "# Feel free to play with it by adding more features & examples.\n",
        "# Interesting note: I've written this so the 2nd and 5th examples\n",
        "# have the same features, but different labels - so we can see how the\n",
        "# tree handles this case.\n",
        "training_data = [\n",
        "    ['Green', 3, 'Apple'],\n",
        "    ['Yellow', 3, 'Apple'],\n",
        "    ['Red', 1, 'Grape'],\n",
        "    ['Red', 1, 'Grape'],\n",
        "    ['Yellow', 3, 'Lemon'],\n",
        "]"
      ],
      "metadata": {
        "id": "oGOr4Hsmc5Lt"
      },
      "execution_count": 77,
      "outputs": []
    },
    {
      "cell_type": "code",
      "source": [
        "# Column labels.\n",
        "# These are used only to print the tree.\n",
        "header = [\"color\", \"diameter\", \"label\"]"
      ],
      "metadata": {
        "id": "YKqS9diPc7w0"
      },
      "execution_count": 78,
      "outputs": []
    },
    {
      "cell_type": "code",
      "source": [
        "def unique_vals(rows, col):\n",
        "    \"\"\"Find the unique values for a column in a dataset.\"\"\"\n",
        "    return set([row[col] for row in rows])"
      ],
      "metadata": {
        "id": "X8rxOrw8dEkH"
      },
      "execution_count": 79,
      "outputs": []
    },
    {
      "cell_type": "markdown",
      "source": [],
      "metadata": {
        "id": "61EFhTGwKf0m"
      }
    },
    {
      "cell_type": "code",
      "source": [
        "#######\n",
        "# Demo:\n",
        "unique_vals(training_data, 0)\n",
        "# unique_vals(training_data, 1)\n",
        "#######"
      ],
      "metadata": {
        "colab": {
          "base_uri": "https://localhost:8080/"
        },
        "id": "eqo6EuTPdTsg",
        "outputId": "99f60963-47db-41b3-da78-2e6b364061fe"
      },
      "execution_count": 80,
      "outputs": [
        {
          "output_type": "execute_result",
          "data": {
            "text/plain": [
              "{'Green', 'Red', 'Yellow'}"
            ]
          },
          "metadata": {},
          "execution_count": 80
        }
      ]
    },
    {
      "cell_type": "code",
      "source": [
        "def class_counts(rows):\n",
        "    \"\"\"Counts the number of each type of example in a dataset.\"\"\"\n",
        "    counts = {}  # a dictionary of label -> count.\n",
        "    for row in rows:\n",
        "        # in our dataset format, the label is always the last column\n",
        "        label = row[-1]\n",
        "        if label not in counts:\n",
        "            counts[label] = 0\n",
        "        counts[label] += 1\n",
        "    return counts"
      ],
      "metadata": {
        "id": "ty0XKhgkd6Zk"
      },
      "execution_count": 81,
      "outputs": []
    },
    {
      "cell_type": "code",
      "source": [
        "#######\n",
        "# Demo:\n",
        "class_counts(training_data)\n",
        "#######"
      ],
      "metadata": {
        "colab": {
          "base_uri": "https://localhost:8080/"
        },
        "id": "4lPJxFA6eaTy",
        "outputId": "9df9053b-4c12-493a-824f-2fa14d6d870a"
      },
      "execution_count": 82,
      "outputs": [
        {
          "output_type": "execute_result",
          "data": {
            "text/plain": [
              "{'Apple': 2, 'Grape': 2, 'Lemon': 1}"
            ]
          },
          "metadata": {},
          "execution_count": 82
        }
      ]
    },
    {
      "cell_type": "code",
      "source": [
        "def is_numeric(value):\n",
        "    \"\"\"Test if a value is numeric.\"\"\"\n",
        "    return isinstance(value, int) or isinstance(value, float)"
      ],
      "metadata": {
        "id": "5YMr-CzPo1YU"
      },
      "execution_count": 83,
      "outputs": []
    },
    {
      "cell_type": "code",
      "source": [
        "#######\n",
        "# Demo:\n",
        "# is_numeric(7)\n",
        "is_numeric(\"Red\")\n",
        "#######"
      ],
      "metadata": {
        "colab": {
          "base_uri": "https://localhost:8080/"
        },
        "id": "sxCBlY_0quNb",
        "outputId": "992b42ff-1f0e-4dce-91b1-5982f989dab1"
      },
      "execution_count": 84,
      "outputs": [
        {
          "output_type": "execute_result",
          "data": {
            "text/plain": [
              "False"
            ]
          },
          "metadata": {},
          "execution_count": 84
        }
      ]
    },
    {
      "cell_type": "code",
      "source": [
        "class Question:\n",
        "    \"\"\"A Question is used to partition a dataset.\n",
        "\n",
        "    This class just records a 'column number' (e.g., 0 for Color) and a\n",
        "    'column value' (e.g., Green). The 'match' method is used to compare\n",
        "    the feature value in an example to the feature value stored in the\n",
        "    question. See the demo below.\n",
        "    \"\"\"\n",
        "\n",
        "    def __init__(self, column, value):\n",
        "        self.column = column\n",
        "        self.value = value\n",
        "\n",
        "    def match(self, example):\n",
        "        # Compare the feature value in an example to the\n",
        "        # feature value in this question.\n",
        "        val = example[self.column]\n",
        "\n",
        "        if is_numeric(val):\n",
        "            return val >= self.value\n",
        "        else:\n",
        "            return val == self.value\n",
        "\n",
        "    def __repr__(self):\n",
        "        # This is just a helper method to print\n",
        "        # the question in a readable format.\n",
        "        condition = \"==\"\n",
        "        if is_numeric(self.value):\n",
        "            condition = \">=\"\n",
        "        return \"Is %s %s %s?\" % (\n",
        "            header[self.column], condition, str(self.value))"
      ],
      "metadata": {
        "id": "yh2naP8Vq859"
      },
      "execution_count": 85,
      "outputs": []
    },
    {
      "cell_type": "code",
      "source": [
        "#######\n",
        "# Demo:\n",
        "# Let's write a question for a numeric attribute\n",
        "Question(0, 2)\n",
        "# Question(2, 'Green')"
      ],
      "metadata": {
        "colab": {
          "base_uri": "https://localhost:8080/"
        },
        "id": "yk4X7kiHrB6w",
        "outputId": "3cf27ac8-3d0f-4c81-d025-a5e879f6e7e6"
      },
      "execution_count": 86,
      "outputs": [
        {
          "output_type": "execute_result",
          "data": {
            "text/plain": [
              "Is color >= 2?"
            ]
          },
          "metadata": {},
          "execution_count": 86
        }
      ]
    },
    {
      "cell_type": "code",
      "source": [
        "# How about one for a categorical attribute\n",
        "q = Question(0, 'Green')\n",
        "q"
      ],
      "metadata": {
        "colab": {
          "base_uri": "https://localhost:8080/"
        },
        "id": "V0dYrHivruSU",
        "outputId": "10291fd8-3112-461f-f9b7-2bf4fe7ea9ee"
      },
      "execution_count": 87,
      "outputs": [
        {
          "output_type": "execute_result",
          "data": {
            "text/plain": [
              "Is color == Green?"
            ]
          },
          "metadata": {},
          "execution_count": 87
        }
      ]
    },
    {
      "cell_type": "code",
      "source": [
        "# Let's pick an example from the training set...\n",
        "example = training_data[0]\n",
        "# ... and see if it matches the question\n",
        "\n",
        "q.match(example) # this will be true, since the first example is Green.\n",
        "#######"
      ],
      "metadata": {
        "colab": {
          "base_uri": "https://localhost:8080/"
        },
        "id": "JhxmmqF0Zcld",
        "outputId": "24ded78b-c1d9-47e2-822b-80e0840af582"
      },
      "execution_count": 88,
      "outputs": [
        {
          "output_type": "execute_result",
          "data": {
            "text/plain": [
              "True"
            ]
          },
          "metadata": {},
          "execution_count": 88
        }
      ]
    },
    {
      "cell_type": "code",
      "source": [
        "def partition(rows, question):\n",
        "    \"\"\"Partitions a dataset.\n",
        "\n",
        "    For each row in the dataset, check if it matches the question. If\n",
        "    so, add it to 'true rows', otherwise, add it to 'false rows'.\n",
        "    \"\"\"\n",
        "    true_rows, false_rows = [], []\n",
        "    for row in rows:\n",
        "        if question.match(row):\n",
        "            true_rows.append(row)\n",
        "        else:\n",
        "            false_rows.append(row)\n",
        "    return true_rows, false_rows"
      ],
      "metadata": {
        "id": "RtTn2GREcwTx"
      },
      "execution_count": 89,
      "outputs": []
    },
    {
      "cell_type": "code",
      "source": [
        "#######\n",
        "# Demo:\n",
        "# Let's partition the training data based on whether rows are Red.\n",
        "true_rows, false_rows = partition(training_data, Question(0, 'Red'))\n",
        "# This will contain all the 'Red' rows.\n",
        "false_rows\n",
        "\n",
        "true_rows"
      ],
      "metadata": {
        "colab": {
          "base_uri": "https://localhost:8080/"
        },
        "id": "Ed3VeJBPcoEU",
        "outputId": "5d62ee3d-32d2-479e-cf9f-9209eab38edd"
      },
      "execution_count": 90,
      "outputs": [
        {
          "output_type": "execute_result",
          "data": {
            "text/plain": [
              "[['Red', 1, 'Grape'], ['Red', 1, 'Grape']]"
            ]
          },
          "metadata": {},
          "execution_count": 90
        }
      ]
    },
    {
      "cell_type": "code",
      "source": [
        "def gini(rows):\n",
        "    \"\"\"Calculate the Gini Impurity for a list of rows.\n",
        "\n",
        "    There are a few different ways to do this, I thought this one was\n",
        "    the most concise. See:\n",
        "    https://en.wikipedia.org/wiki/Decision_tree_learning#Gini_impurity\n",
        "    \"\"\"\n",
        "    counts = class_counts(rows)\n",
        "\n",
        "    impurity = 1\n",
        "    for lbl in counts:\n",
        "\n",
        "        prob_of_lbl = counts[lbl] / float(len(rows))\n",
        "\n",
        "        impurity -= prob_of_lbl**2\n",
        "\n",
        "    return impurity"
      ],
      "metadata": {
        "id": "21cR8f6NenrD"
      },
      "execution_count": 91,
      "outputs": []
    },
    {
      "cell_type": "code",
      "source": [
        "#######\n",
        "# Demo:\n",
        "# Let's look at some example to understand how Gini Impurity works.\n",
        "#\n",
        "# First, we'll look at a dataset with no mixing.\n",
        "no_mixing = [['Apple'],\n",
        "                  ['Orange'],\n",
        "                  ['Grape'],\n",
        "                  ['Grapefruit'],\n",
        "                  ['Blueberry']]\n",
        "# this will return 0\n",
        "gini(no_mixing)"
      ],
      "metadata": {
        "colab": {
          "base_uri": "https://localhost:8080/"
        },
        "id": "J4SCUyH0etKG",
        "outputId": "cd810158-f6f0-49ce-ca80-ce2fd0edd1d4"
      },
      "execution_count": 92,
      "outputs": [
        {
          "output_type": "execute_result",
          "data": {
            "text/plain": [
              "0.7999999999999998"
            ]
          },
          "metadata": {},
          "execution_count": 92
        }
      ]
    },
    {
      "cell_type": "code",
      "source": [
        "def info_gain(left, right, current_uncertainty):\n",
        "    \"\"\"Information Gain.\n",
        "\n",
        "    The uncertainty of the starting node, minus the weighted impurity of\n",
        "    two child nodes.\n",
        "    \"\"\"\n",
        "    p = float(len(left)) / (len(left) + len(right))\n",
        "    return current_uncertainty - p * gini(left) - (1 - p) * gini(right)"
      ],
      "metadata": {
        "id": "I-MEnCgghdHJ"
      },
      "execution_count": 93,
      "outputs": []
    },
    {
      "cell_type": "code",
      "source": [
        "#######\n",
        "# Demo:\n",
        "# Calculate the uncertainy of our training data.\n",
        "current_uncertainty = gini(training_data)\n",
        "current_uncertainty"
      ],
      "metadata": {
        "colab": {
          "base_uri": "https://localhost:8080/"
        },
        "id": "2gC5LwCBhlAV",
        "outputId": "d3a982b2-0e9a-4dcb-d15c-88cb9c931d51"
      },
      "execution_count": 94,
      "outputs": [
        {
          "output_type": "execute_result",
          "data": {
            "text/plain": [
              "0.6399999999999999"
            ]
          },
          "metadata": {},
          "execution_count": 94
        }
      ]
    },
    {
      "cell_type": "code",
      "source": [
        "# How much information do we gain by partioning on 'Green'?\n",
        "true_rows, false_rows = partition(training_data, Question(0, 'Green'))\n",
        "info_gain(true_rows, false_rows, current_uncertainty)"
      ],
      "metadata": {
        "colab": {
          "base_uri": "https://localhost:8080/"
        },
        "id": "6a37S9rKh2e1",
        "outputId": "ef096033-a524-4499-ff6c-c8d427953e32"
      },
      "execution_count": 95,
      "outputs": [
        {
          "output_type": "execute_result",
          "data": {
            "text/plain": [
              "0.1399999999999999"
            ]
          },
          "metadata": {},
          "execution_count": 95
        }
      ]
    },
    {
      "cell_type": "code",
      "source": [
        "# What about if we partioned on 'Red' instead?\n",
        "true_rows, false_rows = partition(training_data, Question(0,'Red'))\n",
        "info_gain(true_rows, false_rows, current_uncertainty)\n"
      ],
      "metadata": {
        "colab": {
          "base_uri": "https://localhost:8080/"
        },
        "id": "xr1K_ekSiI9r",
        "outputId": "2cf8914a-551a-4aa6-d411-75695cdb6cb5"
      },
      "execution_count": 96,
      "outputs": [
        {
          "output_type": "execute_result",
          "data": {
            "text/plain": [
              "0.37333333333333324"
            ]
          },
          "metadata": {},
          "execution_count": 96
        }
      ]
    },
    {
      "cell_type": "code",
      "source": [
        "def find_best_split(rows):\n",
        "    \"\"\"Find the best question to ask by iterating over every feature / value\n",
        "    and calculating the information gain.\"\"\"\n",
        "    best_gain = 0  # keep track of the best information gain\n",
        "    best_question = None  # keep train of the feature / value that produced it\n",
        "    current_uncertainty = gini(rows)\n",
        "    n_features = len(rows[0]) - 1  # number of columns\n",
        "\n",
        "    for col in range(n_features):  # for each feature\n",
        "\n",
        "        values = set([row[col] for row in rows])  # unique values in the column\n",
        "\n",
        "        for val in values:  # for each value\n",
        "\n",
        "            question = Question(col, val)\n",
        "\n",
        "            # try splitting the dataset\n",
        "            true_rows, false_rows = partition(rows, question)\n",
        "\n",
        "            # Skip this split if it doesn't divide the\n",
        "            # dataset.\n",
        "            if len(true_rows) == 0 or len(false_rows) == 0:\n",
        "                continue\n",
        "\n",
        "            # Calculate the information gain from this split\n",
        "            gain = info_gain(true_rows, false_rows, current_uncertainty)\n",
        "\n",
        "            # You actually can use '>' instead of '>=' here\n",
        "            # but I wanted the tree to look a certain way for our\n",
        "            # toy dataset.\n",
        "            if gain >= best_gain:\n",
        "                best_gain, best_question = gain, question\n",
        "\n",
        "    return best_gain, best_question"
      ],
      "metadata": {
        "id": "vHiVnEpD4H0W"
      },
      "execution_count": 97,
      "outputs": []
    },
    {
      "cell_type": "code",
      "source": [
        "#######\n",
        "# Demo:\n",
        "# Find the best question to ask first for our toy dataset.\n",
        "best_gain, best_question = find_best_split(training_data)\n",
        "best_question\n",
        "# FYI: is color == Red is just as good. See the note in the code above\n",
        "# where I used '>='.\n",
        "#######"
      ],
      "metadata": {
        "colab": {
          "base_uri": "https://localhost:8080/"
        },
        "id": "FoXc0cn_0Yze",
        "outputId": "1da18350-e215-4b76-f99b-10d20e6ceb48"
      },
      "execution_count": 98,
      "outputs": [
        {
          "output_type": "execute_result",
          "data": {
            "text/plain": [
              "Is diameter >= 3?"
            ]
          },
          "metadata": {},
          "execution_count": 98
        }
      ]
    },
    {
      "cell_type": "code",
      "source": [
        "class Leaf:\n",
        "    \"\"\"A Leaf node classifies data.\n",
        "\n",
        "    This holds a dictionary of class (e.g., \"Apple\") -> number of times\n",
        "    it appears in the rows from the training data that reach this leaf.\n",
        "    \"\"\"\n",
        "\n",
        "    def __init__(self, rows):\n",
        "        self.predictions = class_counts(rows)"
      ],
      "metadata": {
        "id": "Ji-5Q2tlIqu5"
      },
      "execution_count": 99,
      "outputs": []
    },
    {
      "cell_type": "code",
      "source": [
        "class Decision_Node:\n",
        "    \"\"\"A Decision Node asks a question.\n",
        "\n",
        "    This holds a reference to the question, and to the two child nodes.\n",
        "    \"\"\"\n",
        "\n",
        "    def __init__(self,\n",
        "                 question,\n",
        "                 true_branch,\n",
        "                 false_branch):\n",
        "        self.question = question\n",
        "        self.true_branch = true_branch\n",
        "        self.false_branch = false_branch"
      ],
      "metadata": {
        "id": "RvZQ9kEbIwT4"
      },
      "execution_count": 100,
      "outputs": []
    },
    {
      "cell_type": "code",
      "source": [
        "def build_tree(rows):\n",
        "    \"\"\"Builds the tree.\n",
        "\n",
        "    Rules of recursion: 1) Believe that it works. 2) Start by checking\n",
        "    for the base case (no further information gain). 3) Prepare for\n",
        "    giant stack traces.\n",
        "    \"\"\"\n",
        "\n",
        "    # Try partitioing the dataset on each of the unique attribute,\n",
        "    # calculate the information gain,\n",
        "    # and return the question that produces the highest gain.\n",
        "    gain, question = find_best_split(rows)\n",
        "\n",
        "    # Base case: no further info gain\n",
        "    # Since we can ask no further questions,\n",
        "    # we'll return a leaf.\n",
        "    if gain == 0:\n",
        "        return Leaf(rows)\n",
        "\n",
        "    # If we reach here, we have found a useful feature / value\n",
        "    # to partition on.\n",
        "    true_rows, false_rows = partition(rows, question)\n",
        "\n",
        "    # Recursively build the true branch.\n",
        "    true_branch = build_tree(true_rows)\n",
        "\n",
        "    # Recursively build the false branch.\n",
        "    false_branch = build_tree(false_rows)\n",
        "\n",
        "    # Return a Question node.\n",
        "    # This records the best feature / value to ask at this point,\n",
        "    # as well as the branches to follow\n",
        "    # dependingo on the answer.\n",
        "    return Decision_Node(question, true_branch, false_branch)"
      ],
      "metadata": {
        "id": "YEYLsv-fI-ZO"
      },
      "execution_count": 101,
      "outputs": []
    },
    {
      "cell_type": "code",
      "source": [
        "def print_tree(node, spacing=\"\"):\n",
        "    \"\"\"World's most elegant tree printing function.\"\"\"\n",
        "\n",
        "    # Base case: we've reached a leaf\n",
        "    if isinstance(node, Leaf):\n",
        "        print (spacing + \"Predict\", node.predictions)\n",
        "        return\n",
        "\n",
        "    # Print the question at this node\n",
        "    print (spacing + str(node.question))\n",
        "\n",
        "    # Call this function recursively on the true branch\n",
        "    print (spacing + '--> True:')\n",
        "    print_tree(node.true_branch, spacing + \"  \")\n",
        "\n",
        "    # Call this function recursively on the false branch\n",
        "    print (spacing + '--> False:')\n",
        "    print_tree(node.false_branch, spacing + \"  \")"
      ],
      "metadata": {
        "id": "ROP74Ic4JYJf"
      },
      "execution_count": 102,
      "outputs": []
    },
    {
      "cell_type": "code",
      "source": [
        "my_tree = build_tree(training_data)"
      ],
      "metadata": {
        "id": "KuN4wRHWLSDF"
      },
      "execution_count": 103,
      "outputs": []
    },
    {
      "cell_type": "code",
      "source": [
        "print_tree(my_tree)"
      ],
      "metadata": {
        "colab": {
          "base_uri": "https://localhost:8080/"
        },
        "id": "w8wzMu_XLU_c",
        "outputId": "2217344e-a667-499b-a1b2-034c231226f7"
      },
      "execution_count": 104,
      "outputs": [
        {
          "output_type": "stream",
          "name": "stdout",
          "text": [
            "Is diameter >= 3?\n",
            "--> True:\n",
            "  Is color == Yellow?\n",
            "  --> True:\n",
            "    Predict {'Apple': 1, 'Lemon': 1}\n",
            "  --> False:\n",
            "    Predict {'Apple': 1}\n",
            "--> False:\n",
            "  Predict {'Grape': 2}\n"
          ]
        }
      ]
    },
    {
      "cell_type": "code",
      "source": [
        "def classify(row, node):\n",
        "    \"\"\"See the 'rules of recursion' above.\"\"\"\n",
        "\n",
        "    # Base case: we've reached a leaf\n",
        "    if isinstance(node, Leaf):\n",
        "        return node.predictions\n",
        "\n",
        "    # Decide whether to follow the true-branch or the false-branch.\n",
        "    # Compare the feature / value stored in the node,\n",
        "    # to the example we're considering.\n",
        "    if node.question.match(row):\n",
        "        return classify(row, node.true_branch)\n",
        "    else:\n",
        "        return classify(row, node.false_branch)"
      ],
      "metadata": {
        "id": "RAHivwK-Jgft"
      },
      "execution_count": 105,
      "outputs": []
    },
    {
      "cell_type": "code",
      "source": [
        "#######\n",
        "# Demo:\n",
        "# The tree predicts the 1st row of our\n",
        "# training data is an apple with confidence 1.\n",
        "classify(training_data[0], my_tree)\n",
        "#######"
      ],
      "metadata": {
        "colab": {
          "base_uri": "https://localhost:8080/"
        },
        "id": "gu-G6fHRLeP9",
        "outputId": "dc97db63-6e8a-497a-cb18-6839c80c7619"
      },
      "execution_count": 106,
      "outputs": [
        {
          "output_type": "execute_result",
          "data": {
            "text/plain": [
              "{'Apple': 1}"
            ]
          },
          "metadata": {},
          "execution_count": 106
        }
      ]
    },
    {
      "cell_type": "code",
      "source": [
        "def print_leaf(counts):\n",
        "    \"\"\"A nicer way to print the predictions at a leaf.\"\"\"\n",
        "    total = sum(counts.values()) * 1.0\n",
        "    probs = {}\n",
        "    for lbl in counts.keys():\n",
        "        probs[lbl] = str(int(counts[lbl] / total * 100)) + \"%\"\n",
        "    return probs"
      ],
      "metadata": {
        "id": "VmTl1H7ZJp94"
      },
      "execution_count": 107,
      "outputs": []
    },
    {
      "cell_type": "code",
      "source": [
        "#######\n",
        "# Demo:\n",
        "# Printing that a bit nicer\n",
        "print_leaf(classify(training_data[0], my_tree))\n",
        "#######"
      ],
      "metadata": {
        "colab": {
          "base_uri": "https://localhost:8080/"
        },
        "id": "kirpD830Lm07",
        "outputId": "4997bf52-52ab-4fc1-e67a-69f9448fc544"
      },
      "execution_count": 108,
      "outputs": [
        {
          "output_type": "execute_result",
          "data": {
            "text/plain": [
              "{'Apple': '100%'}"
            ]
          },
          "metadata": {},
          "execution_count": 108
        }
      ]
    },
    {
      "cell_type": "code",
      "source": [
        "#######\n",
        "# Demo:\n",
        "# On the second example, the confidence is lower\n",
        "print_leaf(classify(training_data[1], my_tree))\n",
        "#######"
      ],
      "metadata": {
        "colab": {
          "base_uri": "https://localhost:8080/"
        },
        "id": "mO4NcCMoLu3P",
        "outputId": "37c70d9c-6e6c-44fd-a4a4-cfeba35cb529"
      },
      "execution_count": 109,
      "outputs": [
        {
          "output_type": "execute_result",
          "data": {
            "text/plain": [
              "{'Apple': '50%', 'Lemon': '50%'}"
            ]
          },
          "metadata": {},
          "execution_count": 109
        }
      ]
    },
    {
      "cell_type": "code",
      "source": [
        "# Evaluate\n",
        "testing_data = [\n",
        "    ['Green', 3, 'Apple'],\n",
        "    ['Yellow', 4, 'Apple'],\n",
        "    ['Red', 2, 'Grape'],\n",
        "    ['Red', 1, 'Grape'],\n",
        "    ['Yellow', 3, 'Lemon'],\n",
        "]"
      ],
      "metadata": {
        "id": "mdFgDjaKJ4kd"
      },
      "execution_count": 110,
      "outputs": []
    },
    {
      "cell_type": "code",
      "source": [
        "for row in testing_data:\n",
        "    print (\"Actual: %s. Predicted: %s\" %\n",
        "           (row[-1], print_leaf(classify(row, my_tree))))"
      ],
      "metadata": {
        "colab": {
          "base_uri": "https://localhost:8080/"
        },
        "id": "WtoSGdDCJ7m3",
        "outputId": "e20d3306-510c-42e7-c867-0c72d4d62c74"
      },
      "execution_count": 111,
      "outputs": [
        {
          "output_type": "stream",
          "name": "stdout",
          "text": [
            "Actual: Apple. Predicted: {'Apple': '100%'}\n",
            "Actual: Apple. Predicted: {'Apple': '50%', 'Lemon': '50%'}\n",
            "Actual: Grape. Predicted: {'Grape': '100%'}\n",
            "Actual: Grape. Predicted: {'Grape': '100%'}\n",
            "Actual: Lemon. Predicted: {'Apple': '50%', 'Lemon': '50%'}\n"
          ]
        }
      ]
    }
  ]
}